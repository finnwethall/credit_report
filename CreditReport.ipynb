{
 "cells": [
  {
   "cell_type": "code",
   "execution_count": 2,
   "id": "bae1f7ff-e422-4c1f-aa94-a8c981b2b6b1",
   "metadata": {},
   "outputs": [
    {
     "name": "stdout",
     "output_type": "stream",
     "text": [
      "   person_age  person_income person_home_ownership  person_emp_length  \\\n",
      "0          22          59000                  RENT              123.0   \n",
      "1          21           9600                   OWN                5.0   \n",
      "2          25           9600              MORTGAGE                1.0   \n",
      "3          23          65500                  RENT                4.0   \n",
      "4          24          54400                  RENT                8.0   \n",
      "\n",
      "  loan_intent loan_grade  loan_amnt  loan_int_rate  loan_status  \\\n",
      "0    PERSONAL          D      35000          16.02            1   \n",
      "1   EDUCATION          B       1000          11.14            0   \n",
      "2     MEDICAL          C       5500          12.87            1   \n",
      "3     MEDICAL          C      35000          15.23            1   \n",
      "4     MEDICAL          C      35000          14.27            1   \n",
      "\n",
      "   loan_percent_income cb_person_default_on_file  cb_person_cred_hist_length  \n",
      "0                 0.59                         Y                           3  \n",
      "1                 0.10                         N                           2  \n",
      "2                 0.57                         N                           3  \n",
      "3                 0.53                         N                           2  \n",
      "4                 0.55                         Y                           4  \n",
      "32581\n"
     ]
    }
   ],
   "source": [
    "import numpy as np \n",
    "import pandas as pd \n",
    "import matplotlib.pyplot as plt\n",
    "#import scikitlearn\n",
    "\n",
    "df = pd.read_csv('/Users/finnwethall/Downloads/credit_risk_dataset.csv')\n",
    "\n",
    "print(df.head())\n",
    "\n",
    "rows, cols = df.shape\n",
    "print(rows)\n",
    "\n",
    "\n",
    "\n"
   ]
  },
  {
   "cell_type": "code",
   "execution_count": 4,
   "id": "4cbf80b2-c38b-496d-9bb0-1c8fed8c83fa",
   "metadata": {},
   "outputs": [
    {
     "name": "stdout",
     "output_type": "stream",
     "text": [
      "person_emp_length 2.747 float64\n",
      "\n",
      "loan_int_rate 9.5639 float64\n",
      "\n"
     ]
    }
   ],
   "source": [
    "#some preprocessing\n",
    "null_percentages = df.isnull().mean() * 100\n",
    "#print(null_percentages)\n",
    "#analyze = []\n",
    "for col, percent in null_percentages.items():\n",
    "\n",
    "    if percent:\n",
    "        #s = col + str(round(percent, 4)) + df[col].dtype\n",
    "        #analyze.append(s)\n",
    "        print(col, round(percent, 4), df[col].dtype)\n",
    "        print()\n",
    "        \n",
    "        \n",
    "\n"
   ]
  },
  {
   "cell_type": "code",
   "execution_count": null,
   "id": "60f0236e-a963-42e5-a80b-99784c854aca",
   "metadata": {},
   "outputs": [],
   "source": [
    "verif_status = df['verification_status']\n",
    "\n",
    "plt.figure(figsize=(8, 5))\n",
    "#print(np.unique(verif_status.values))\n",
    "plt.pie(verif_status.index, labels=verif_status.values)\n",
    "plt.show()\n"
   ]
  },
  {
   "cell_type": "code",
   "execution_count": null,
   "id": "685bd6c3-8243-44cb-abc4-8b9c71eb6b56",
   "metadata": {},
   "outputs": [],
   "source": []
  },
  {
   "cell_type": "code",
   "execution_count": null,
   "id": "f20d3179-a3f6-4993-8a37-20c1fa57fd17",
   "metadata": {},
   "outputs": [],
   "source": [
    "\n"
   ]
  },
  {
   "cell_type": "code",
   "execution_count": null,
   "id": "8da22eaf-fc34-4aef-a0ac-29d33b38d0d4",
   "metadata": {},
   "outputs": [],
   "source": []
  },
  {
   "cell_type": "code",
   "execution_count": null,
   "id": "de3c1188-2b95-4919-bc49-b466e1d24c27",
   "metadata": {},
   "outputs": [],
   "source": []
  },
  {
   "cell_type": "code",
   "execution_count": null,
   "id": "9aed4405-ee15-4f1c-9019-cc00d5eb37f2",
   "metadata": {},
   "outputs": [],
   "source": []
  }
 ],
 "metadata": {
  "kernelspec": {
   "display_name": "Python 3 (ipykernel)",
   "language": "python",
   "name": "python3"
  },
  "language_info": {
   "codemirror_mode": {
    "name": "ipython",
    "version": 3
   },
   "file_extension": ".py",
   "mimetype": "text/x-python",
   "name": "python",
   "nbconvert_exporter": "python",
   "pygments_lexer": "ipython3",
   "version": "3.12.4"
  }
 },
 "nbformat": 4,
 "nbformat_minor": 5
}
