{
 "cells": [
  {
   "cell_type": "code",
   "execution_count": null,
   "id": "bae1f7ff-e422-4c1f-aa94-a8c981b2b6b1",
   "metadata": {},
   "outputs": [],
   "source": [
    "import numpy as np \n",
    "import pandas as pd \n",
    "import matplotlib.pyplot as plt\n",
    "#import scikitlearn\n",
    "\n",
    "df = pd.read_csv('/Users/finnwethall/Downloads/credit_risk_dataset.csv')\n",
    "\n",
    "#print(df.head())\n",
    "\n",
    "rows, cols = df.shape\n",
    "#print(rows)\n",
    "\n",
    "\n",
    "\n"
   ]
  },
  {
   "cell_type": "code",
   "execution_count": 49,
   "id": "4cbf80b2-c38b-496d-9bb0-1c8fed8c83fa",
   "metadata": {},
   "outputs": [
    {
     "name": "stdout",
     "output_type": "stream",
     "text": [
      "emp_title 5.7993 object\n",
      "\n",
      "emp_length 5.0514 object\n",
      "\n",
      "annual_inc 0.0005 float64\n",
      "\n",
      "desc 85.798 object\n",
      "\n",
      "title 0.0172 object\n",
      "\n",
      "delinq_2yrs 0.0033 float64\n",
      "\n",
      "earliest_cr_line 0.0033 object\n",
      "\n",
      "inq_last_6mths 0.0033 float64\n",
      "\n",
      "mths_since_last_delinq 51.1971 float64\n",
      "\n",
      "mths_since_last_record 84.5553 float64\n",
      "\n",
      "open_acc 0.0033 float64\n",
      "\n",
      "pub_rec 0.0033 float64\n",
      "\n",
      "revol_util 0.0566 float64\n",
      "\n",
      "total_acc 0.0033 float64\n",
      "\n",
      "last_pymnt_d 1.99 object\n",
      "\n",
      "next_pymnt_d 28.5077 object\n",
      "\n",
      "last_credit_pull_d 0.006 object\n",
      "\n",
      "collections_12_mths_ex_med 0.0163 float64\n",
      "\n",
      "mths_since_last_major_derog 75.016 float64\n",
      "\n",
      "annual_inc_joint 99.9424 float64\n",
      "\n",
      "dti_joint 99.9426 float64\n",
      "\n",
      "verification_status_joint 99.9424 object\n",
      "\n",
      "acc_now_delinq 0.0033 float64\n",
      "\n",
      "tot_coll_amt 7.9195 float64\n",
      "\n",
      "tot_cur_bal 7.9195 float64\n",
      "\n",
      "open_acc_6m 97.5916 float64\n",
      "\n",
      "open_il_6m 97.5916 float64\n",
      "\n",
      "open_il_12m 97.5916 float64\n",
      "\n",
      "open_il_24m 97.5916 float64\n",
      "\n",
      "mths_since_rcnt_il 97.6549 float64\n",
      "\n",
      "total_bal_il 97.5916 float64\n",
      "\n",
      "il_util 97.902 float64\n",
      "\n",
      "open_rv_12m 97.5916 float64\n",
      "\n",
      "open_rv_24m 97.5916 float64\n",
      "\n",
      "max_bal_bc 97.5916 float64\n",
      "\n",
      "all_util 97.5916 float64\n",
      "\n",
      "total_rev_hi_lim 7.9195 float64\n",
      "\n",
      "inq_fi 97.5916 float64\n",
      "\n",
      "total_cu_tl 97.5916 float64\n",
      "\n",
      "inq_last_12m 97.5916 float64\n",
      "\n"
     ]
    }
   ],
   "source": [
    "#some preprocessing\n",
    "null_percentages = df.isnull().mean() * 100\n",
    "#print(null_percentages)\n",
    "#analyze = []\n",
    "for col, percent in null_percentages.items():\n",
    "\n",
    "    if percent:\n",
    "        #s = col + str(round(percent, 4)) + df[col].dtype\n",
    "        #analyze.append(s)\n",
    "        print(col, round(percent, 4), df[col].dtype)\n",
    "        print()\n",
    "        \n",
    "        \n",
    "\n"
   ]
  },
  {
   "cell_type": "code",
   "execution_count": null,
   "id": "60f0236e-a963-42e5-a80b-99784c854aca",
   "metadata": {},
   "outputs": [],
   "source": [
    "verif_status = df['verification_status']\n",
    "\n",
    "plt.figure(figsize=(8, 5))\n",
    "#print(np.unique(verif_status.values))\n",
    "plt.pie(verif_status.index, labels=verif_status.values)\n",
    "plt.show()\n"
   ]
  },
  {
   "cell_type": "code",
   "execution_count": null,
   "id": "685bd6c3-8243-44cb-abc4-8b9c71eb6b56",
   "metadata": {},
   "outputs": [],
   "source": []
  },
  {
   "cell_type": "code",
   "execution_count": null,
   "id": "f20d3179-a3f6-4993-8a37-20c1fa57fd17",
   "metadata": {},
   "outputs": [],
   "source": [
    "print(df['verification_status'].head())\n"
   ]
  },
  {
   "cell_type": "code",
   "execution_count": null,
   "id": "8da22eaf-fc34-4aef-a0ac-29d33b38d0d4",
   "metadata": {},
   "outputs": [],
   "source": []
  }
 ],
 "metadata": {
  "kernelspec": {
   "display_name": "Python 3 (ipykernel)",
   "language": "python",
   "name": "python3"
  },
  "language_info": {
   "codemirror_mode": {
    "name": "ipython",
    "version": 3
   },
   "file_extension": ".py",
   "mimetype": "text/x-python",
   "name": "python",
   "nbconvert_exporter": "python",
   "pygments_lexer": "ipython3",
   "version": "3.12.4"
  }
 },
 "nbformat": 4,
 "nbformat_minor": 5
}
